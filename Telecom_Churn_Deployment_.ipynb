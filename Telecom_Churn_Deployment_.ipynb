{
  "cells": [
    {
      "cell_type": "code",
      "execution_count": 1,
      "metadata": {
        "id": "2VXeaPYrd9Zm"
      },
      "outputs": [],
      "source": [
        "! pip install streamlit -q"
      ]
    },
    {
      "cell_type": "code",
      "execution_count": 2,
      "metadata": {
        "colab": {
          "base_uri": "https://localhost:8080/"
        },
        "id": "MuogriCXXR8J",
        "outputId": "5f0a315f-6cf6-4f4c-cef9-d99befbee64e"
      },
      "outputs": [
        {
          "output_type": "stream",
          "name": "stdout",
          "text": [
            "35.190.142.173\n"
          ]
        }
      ],
      "source": [
        "! wget -q -O - ipv4.icanhazip.com"
      ]
    },
    {
      "cell_type": "code",
      "execution_count": null,
      "metadata": {
        "colab": {
          "base_uri": "https://localhost:8080/"
        },
        "id": "rjL22S39zGw2",
        "outputId": "093286a9-92db-497c-ff4f-e551a47c04ce"
      },
      "outputs": [
        {
          "output_type": "stream",
          "name": "stdout",
          "text": [
            "[..................] | fetchMetadata: sill resolveWithNewModule localtunnel@2.0\u001b[0m\u001b[K\n",
            "Collecting usage statistics. To deactivate, set browser.gatherUsageStats to False.\n",
            "\u001b[0m\n",
            "\u001b[0m\n",
            "\u001b[34m\u001b[1m  You can now view your Streamlit app in your browser.\u001b[0m\n",
            "\u001b[0m\n",
            "\u001b[34m  Network URL: \u001b[0m\u001b[1mhttp://172.28.0.12:8501\u001b[0m\n",
            "\u001b[34m  External URL: \u001b[0m\u001b[1mhttp://35.190.142.173:8501\u001b[0m\n",
            "\u001b[0m\n",
            "\u001b[K\u001b[?25hnpx: installed 22 in 5.081s\n",
            "your url is: https://breezy-rooms-beg.loca.lt\n",
            "/usr/local/lib/python3.10/dist-packages/sklearn/base.py:439: UserWarning: X does not have valid feature names, but SVC was fitted with feature names\n",
            "  warnings.warn(\n",
            "/usr/local/lib/python3.10/dist-packages/sklearn/base.py:439: UserWarning: X does not have valid feature names, but SVC was fitted with feature names\n",
            "  warnings.warn(\n"
          ]
        }
      ],
      "source": [
        "!streamlit run app.py & npx localtunnel --port 8501"
      ]
    },
    {
      "cell_type": "code",
      "source": [
        "# Deployment Code 1 Input Number\n",
        "\n",
        "'''\n",
        "import pickle\n",
        "import streamlit as st\n",
        "import pandas as pd\n",
        "import numpy as np\n",
        "from sklearn.preprocessing import LabelEncoder\n",
        "from sklearn.svm import SVC\n",
        "\n",
        "\n",
        "model=pickle.load(open(\"model_svm.sav\",'rb'))\n",
        "\n",
        "\n",
        "\n",
        "st.title('Telecommunication Churn Prediction')\n",
        "\n",
        "def churnprediction(intl_plan, voice_plan, day_calls, day_mins, day_charge, eve_calls, eve_mins, eve_charge, night_calls, night_mins, night_charge):\n",
        "    input=np.array([[intl_plan, voice_plan, day_calls, day_mins, day_charge, eve_calls, eve_mins, eve_charge, night_calls, night_mins, night_charge]],dtype=object)\n",
        "    prediction=model.predict(input)\n",
        "    return prediction\n",
        "\n",
        "def main():\n",
        "    intl_plan=st.selectbox('International Plan', ('YES', 'NO'))\n",
        "    voice_plan = st.selectbox('Voice Plan', ('YES', 'NO'))\n",
        "    day_calls=st.number_input('No of Day Calls:',min_value=47,max_value=155)\n",
        "    day_mins=st.number_input('Duration of Day Calls:',min_value=34.0,max_value=325.0)\n",
        "    day_charge=st.number_input('Cost Charged for Day Calls:',min_value=5.5,max_value=52.5)\n",
        "    eve_calls=st.number_input('No of Evening Calls:',min_value=46.5,max_value=155.0)\n",
        "    eve_mins=st.number_input('Duration of Evening Calls:',min_value=65.0,max_value=335.0)\n",
        "    eve_charge=st.number_input('Cost Charged for Evening Calls:',min_value=5.4,max_value=29.0)\n",
        "    night_calls=st.number_input('No of Night Calls:',min_value=48,max_value=153)\n",
        "    night_mins=st.number_input('Duration of Night Calls:',min_value=65.0,max_value=336.5)\n",
        "    night_charge=st.number_input('Cost Charged for Night Calls:',min_value=2.8,max_value=15.5)\n",
        "\n",
        "    le=LabelEncoder()\n",
        "    intl_plan = le.fit_transform([intl_plan])[0]\n",
        "    voice_plan = le.fit_transform([voice_plan])[0]\n",
        "\n",
        "    if st.button(\"Predict\"):\n",
        "        output=churnprediction(intl_plan, voice_plan, day_calls, day_mins, day_charge, eve_calls, eve_mins, eve_charge, night_calls, night_mins, night_charge)\n",
        "        if output== 1:\n",
        "            st.write('This customer is likely to churn')\n",
        "        else:\n",
        "            st.write('This customer will likely not churn')\n",
        "if __name__==\"__main__\":\n",
        "    main()\n",
        "\n",
        "'''"
      ],
      "metadata": {
        "id": "__oiOYHueDae"
      },
      "execution_count": null,
      "outputs": []
    },
    {
      "cell_type": "code",
      "source": [
        "# Deployment Code 2 St.Slider\n",
        "\n",
        "'''\n",
        "import pickle\n",
        "import streamlit as st\n",
        "import pandas as pd\n",
        "import numpy as np\n",
        "from sklearn.preprocessing import LabelEncoder\n",
        "from sklearn.svm import SVC\n",
        "\n",
        "\n",
        "model=pickle.load(open(\"model_svm.sav\",'rb'))\n",
        "\n",
        "\n",
        "\n",
        "st.title('Telecommunication Churn Prediction')\n",
        "\n",
        "def churnprediction(intl_plan, voice_plan, day_calls, day_mins, day_charge, eve_calls, eve_mins, eve_charge, night_calls, night_mins, night_charge):\n",
        "    input=np.array([[intl_plan, voice_plan, day_calls, day_mins, day_charge, eve_calls, eve_mins, eve_charge, night_calls, night_mins, night_charge]],dtype=object)\n",
        "    prediction=model.predict(input)\n",
        "    return prediction\n",
        "\n",
        "def main():\n",
        "    intl_plan=st.selectbox('International Plan->yes or no:', ['YES', 'NO'])\n",
        "    voice_plan = st.selectbox('Voice Plan->yes or no:', ['YES', 'NO'])\n",
        "    day_calls=st.slider('Total number of calls during the day:',min_value=47,max_value=155)\n",
        "    day_mins=st.slider('Minutes customer used service during the day:',min_value=34.0,max_value=325.0)\n",
        "    day_charge=st.slider('Total charge during the day:',min_value=5.5,max_value=52.5)\n",
        "    eve_calls=st.slider('Total number of calls during the evening:',min_value=46.5,max_value=155.0)\n",
        "    eve_mins=st.slider('Minutes customer used service during the Evening:',min_value=65.0,max_value=335.0)\n",
        "    eve_charge=st.slider('Total charge during the evening:',min_value=5.4,max_value=29.0)\n",
        "    night_calls=st.slider('Total number of calls during the night:',min_value=48,max_value=153)\n",
        "    night_mins=st.slider('Minutes customer used service during the night:',min_value=65.0,max_value=336.5)\n",
        "    night_charge=st.slider('Total charge during the night:',min_value=2.8,max_value=15.5)\n",
        "\n",
        "    le=LabelEncoder()\n",
        "    intl_plan = le.fit_transform([intl_plan])[0]\n",
        "    voice_plan = le.fit_transform([voice_plan])[0]\n",
        "\n",
        "    if st.button(\"Predict\"):\n",
        "        output=churnprediction(intl_plan, voice_plan, day_calls, day_mins, day_charge, eve_calls, eve_mins, eve_charge, night_calls, night_mins, night_charge)\n",
        "        if output== 1:\n",
        "            st.success('YES')\n",
        "            st.write('This customer is likely to churn')\n",
        "        else:\n",
        "            st.success('NO')\n",
        "            st.write('This customer will likely not churn')\n",
        "if __name__==\"__main__\":\n",
        "    main()\n",
        "\n",
        "'''"
      ],
      "metadata": {
        "id": "xcEtov3odZGW"
      },
      "execution_count": null,
      "outputs": []
    }
  ],
  "metadata": {
    "colab": {
      "provenance": []
    },
    "kernelspec": {
      "display_name": "Python 3",
      "name": "python3"
    },
    "language_info": {
      "name": "python"
    }
  },
  "nbformat": 4,
  "nbformat_minor": 0
}